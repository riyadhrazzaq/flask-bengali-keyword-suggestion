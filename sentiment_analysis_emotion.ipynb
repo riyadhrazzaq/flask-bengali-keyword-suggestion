{
  "nbformat": 4,
  "nbformat_minor": 0,
  "metadata": {
    "colab": {
      "name": "sentiment_analysis_emotion.ipynb",
      "provenance": [],
      "collapsed_sections": [],
      "toc_visible": true
    },
    "kernelspec": {
      "name": "python3",
      "display_name": "Python 3"
    }
  },
  "cells": [
    {
      "cell_type": "markdown",
      "metadata": {
        "id": "02oIlwEeb9Q-",
        "colab_type": "text"
      },
      "source": [
        "mount and imports"
      ]
    },
    {
      "cell_type": "code",
      "metadata": {
        "id": "8NKljjVbprlG",
        "colab_type": "code",
        "outputId": "31b22cc8-a0e8-45d6-d720-49b2691f4ac3",
        "colab": {
          "base_uri": "https://localhost:8080/",
          "height": 125
        }
      },
      "source": [
        "from google.colab import drive\n",
        "drive.mount('/content/drive')"
      ],
      "execution_count": 0,
      "outputs": [
        {
          "output_type": "stream",
          "text": [
            "Go to this URL in a browser: https://accounts.google.com/o/oauth2/auth?client_id=947318989803-6bn6qk8qdgf4n4g3pfee6491hc0brc4i.apps.googleusercontent.com&redirect_uri=urn%3aietf%3awg%3aoauth%3a2.0%3aoob&response_type=code&scope=email%20https%3a%2f%2fwww.googleapis.com%2fauth%2fdocs.test%20https%3a%2f%2fwww.googleapis.com%2fauth%2fdrive%20https%3a%2f%2fwww.googleapis.com%2fauth%2fdrive.photos.readonly%20https%3a%2f%2fwww.googleapis.com%2fauth%2fpeopleapi.readonly\n",
            "\n",
            "Enter your authorization code:\n",
            "··········\n",
            "Mounted at /content/drive\n"
          ],
          "name": "stdout"
        }
      ]
    },
    {
      "cell_type": "code",
      "metadata": {
        "id": "kmA8kvXsxggg",
        "colab_type": "code",
        "outputId": "5bf7a33c-7fd2-44f6-d0c2-123e14c81fe8",
        "colab": {
          "base_uri": "https://localhost:8080/",
          "height": 54
        }
      },
      "source": [
        "import numpy as np\n",
        "import pandas as pd\n",
        "import matplotlib.pyplot as plt\n",
        "from matplotlib.pyplot import figure\n",
        "import re\n",
        "import pprint\n",
        "import gensim\n",
        "import logging\n",
        "import pickle\n",
        "# SKLEARN\n",
        "from sklearn.model_selection import train_test_split\n",
        "from sklearn.preprocessing import OneHotEncoder\n",
        "# NLTK\n",
        "import nltk\n",
        "from nltk.stem.snowball import SnowballStemmer\n",
        "from nltk.corpus import stopwords\n",
        "nltk.download('stopwords')\n",
        "# KERAS\n",
        "from keras.preprocessing.text import Tokenizer\n",
        "from keras.preprocessing.sequence import pad_sequences\n",
        "from keras.models import Sequential\n",
        "from keras.layers import Activation,Dense,Dropout,Embedding,GRU,LSTM\n",
        "from keras import utils\n",
        "from keras.callbacks import ReduceLROnPlateau, EarlyStopping\n",
        "from keras.models import load_model,model_from_json"
      ],
      "execution_count": 0,
      "outputs": [
        {
          "output_type": "stream",
          "text": [
            "[nltk_data] Downloading package stopwords to /root/nltk_data...\n",
            "[nltk_data]   Package stopwords is already up-to-date!\n"
          ],
          "name": "stdout"
        }
      ]
    },
    {
      "cell_type": "markdown",
      "metadata": {
        "id": "blL7spEKssUP",
        "colab_type": "text"
      },
      "source": [
        "Content\n",
        "* load data\n",
        "* preprocess\n",
        "* tokenize\n",
        "* padding\n",
        "* lstm\n",
        "* predict"
      ]
    },
    {
      "cell_type": "markdown",
      "metadata": {
        "id": "PdeBaMhzOF2S",
        "colab_type": "text"
      },
      "source": [
        "# DATA: AMAZON FINE FOOD\n",
        "active"
      ]
    },
    {
      "cell_type": "code",
      "metadata": {
        "id": "ByQDbg70QDxn",
        "colab_type": "code",
        "colab": {}
      },
      "source": [
        "import sqlite3"
      ],
      "execution_count": 0,
      "outputs": []
    },
    {
      "cell_type": "code",
      "metadata": {
        "id": "Cmx6J9JPOtlZ",
        "colab_type": "code",
        "colab": {}
      },
      "source": [
        "!pip install -q kaggle"
      ],
      "execution_count": 0,
      "outputs": []
    },
    {
      "cell_type": "code",
      "metadata": {
        "id": "VtHpy9eSOKTR",
        "colab_type": "code",
        "colab": {}
      },
      "source": [
        "# The Kaggle API client expects this file to be in ~/.kaggle,\n",
        "# so move it there.\n",
        "!mkdir -p ~/.kaggle\n",
        "!cp '/content/drive/My Drive/Colab Notebooks/kaggle.json' ~/.kaggle/\n",
        "\n",
        "# This permissions change avoids a warning on Kaggle tool startup.\n",
        "!chmod 600 ~/.kaggle/kaggle.json"
      ],
      "execution_count": 0,
      "outputs": []
    },
    {
      "cell_type": "code",
      "metadata": {
        "id": "kFmDPQWdO-mq",
        "colab_type": "code",
        "outputId": "4c758461-dc8e-4f90-c5be-3da6c284f9e3",
        "colab": {
          "base_uri": "https://localhost:8080/",
          "height": 72
        }
      },
      "source": [
        "!kaggle datasets download -d snap/amazon-fine-food-reviews --unzip"
      ],
      "execution_count": 0,
      "outputs": [
        {
          "output_type": "stream",
          "text": [
            "Downloading amazon-fine-food-reviews.zip to /content\n",
            "100% 242M/242M [00:02<00:00, 124MB/s]\n",
            "100% 242M/242M [00:02<00:00, 122MB/s]\n"
          ],
          "name": "stdout"
        }
      ]
    },
    {
      "cell_type": "code",
      "metadata": {
        "id": "B4hXFayCQJV5",
        "colab_type": "code",
        "colab": {}
      },
      "source": [
        "con = sqlite3.connect('/content/database.sqlite')\n",
        "df = pd.read_sql_query(\"SELECT * FROM Reviews\", con)"
      ],
      "execution_count": 0,
      "outputs": []
    },
    {
      "cell_type": "code",
      "metadata": {
        "id": "zDoGE_BpQYJ2",
        "colab_type": "code",
        "outputId": "3eb30872-e01c-41ca-f194-d23077c45470",
        "colab": {
          "base_uri": "https://localhost:8080/",
          "height": 206
        }
      },
      "source": [
        "df.drop(['Id','ProductId','UserId','ProfileName','Time'],axis=1,inplace=True)\n",
        "df.head()"
      ],
      "execution_count": 0,
      "outputs": [
        {
          "output_type": "execute_result",
          "data": {
            "text/html": [
              "<div>\n",
              "<style scoped>\n",
              "    .dataframe tbody tr th:only-of-type {\n",
              "        vertical-align: middle;\n",
              "    }\n",
              "\n",
              "    .dataframe tbody tr th {\n",
              "        vertical-align: top;\n",
              "    }\n",
              "\n",
              "    .dataframe thead th {\n",
              "        text-align: right;\n",
              "    }\n",
              "</style>\n",
              "<table border=\"1\" class=\"dataframe\">\n",
              "  <thead>\n",
              "    <tr style=\"text-align: right;\">\n",
              "      <th></th>\n",
              "      <th>HelpfulnessNumerator</th>\n",
              "      <th>HelpfulnessDenominator</th>\n",
              "      <th>Score</th>\n",
              "      <th>Summary</th>\n",
              "      <th>Text</th>\n",
              "    </tr>\n",
              "  </thead>\n",
              "  <tbody>\n",
              "    <tr>\n",
              "      <th>0</th>\n",
              "      <td>1</td>\n",
              "      <td>1</td>\n",
              "      <td>5</td>\n",
              "      <td>Good Quality Dog Food</td>\n",
              "      <td>I have bought several of the Vitality canned d...</td>\n",
              "    </tr>\n",
              "    <tr>\n",
              "      <th>1</th>\n",
              "      <td>0</td>\n",
              "      <td>0</td>\n",
              "      <td>1</td>\n",
              "      <td>Not as Advertised</td>\n",
              "      <td>Product arrived labeled as Jumbo Salted Peanut...</td>\n",
              "    </tr>\n",
              "    <tr>\n",
              "      <th>2</th>\n",
              "      <td>1</td>\n",
              "      <td>1</td>\n",
              "      <td>4</td>\n",
              "      <td>\"Delight\" says it all</td>\n",
              "      <td>This is a confection that has been around a fe...</td>\n",
              "    </tr>\n",
              "    <tr>\n",
              "      <th>3</th>\n",
              "      <td>3</td>\n",
              "      <td>3</td>\n",
              "      <td>2</td>\n",
              "      <td>Cough Medicine</td>\n",
              "      <td>If you are looking for the secret ingredient i...</td>\n",
              "    </tr>\n",
              "    <tr>\n",
              "      <th>4</th>\n",
              "      <td>0</td>\n",
              "      <td>0</td>\n",
              "      <td>5</td>\n",
              "      <td>Great taffy</td>\n",
              "      <td>Great taffy at a great price.  There was a wid...</td>\n",
              "    </tr>\n",
              "  </tbody>\n",
              "</table>\n",
              "</div>"
            ],
            "text/plain": [
              "   HelpfulnessNumerator  ...                                               Text\n",
              "0                     1  ...  I have bought several of the Vitality canned d...\n",
              "1                     0  ...  Product arrived labeled as Jumbo Salted Peanut...\n",
              "2                     1  ...  This is a confection that has been around a fe...\n",
              "3                     3  ...  If you are looking for the secret ingredient i...\n",
              "4                     0  ...  Great taffy at a great price.  There was a wid...\n",
              "\n",
              "[5 rows x 5 columns]"
            ]
          },
          "metadata": {
            "tags": []
          },
          "execution_count": 7
        }
      ]
    },
    {
      "cell_type": "code",
      "metadata": {
        "id": "DDmNCi9nRQDG",
        "colab_type": "code",
        "colab": {}
      },
      "source": [
        "df['Usefulness'] = (df['HelpfulnessNumerator'] / df['HelpfulnessDenominator']).apply(lambda x: 'useful' if x>0.7 else 'useless')"
      ],
      "execution_count": 0,
      "outputs": []
    },
    {
      "cell_type": "code",
      "metadata": {
        "id": "jluX4hZ0SodY",
        "colab_type": "code",
        "colab": {}
      },
      "source": [
        "df['sentiment'] = df['Score'].apply(lambda x: 'positive' if x>3 else ('negative' if x<3 else 'neutral'))"
      ],
      "execution_count": 0,
      "outputs": []
    },
    {
      "cell_type": "code",
      "metadata": {
        "id": "q-iIb7LRI7JT",
        "colab_type": "code",
        "outputId": "5c55f761-0ca0-4777-b1e8-4759f408e7a9",
        "colab": {
          "base_uri": "https://localhost:8080/",
          "height": 206
        }
      },
      "source": [
        "df.head()"
      ],
      "execution_count": 0,
      "outputs": [
        {
          "output_type": "execute_result",
          "data": {
            "text/html": [
              "<div>\n",
              "<style scoped>\n",
              "    .dataframe tbody tr th:only-of-type {\n",
              "        vertical-align: middle;\n",
              "    }\n",
              "\n",
              "    .dataframe tbody tr th {\n",
              "        vertical-align: top;\n",
              "    }\n",
              "\n",
              "    .dataframe thead th {\n",
              "        text-align: right;\n",
              "    }\n",
              "</style>\n",
              "<table border=\"1\" class=\"dataframe\">\n",
              "  <thead>\n",
              "    <tr style=\"text-align: right;\">\n",
              "      <th></th>\n",
              "      <th>HelpfulnessNumerator</th>\n",
              "      <th>HelpfulnessDenominator</th>\n",
              "      <th>Score</th>\n",
              "      <th>Summary</th>\n",
              "      <th>Text</th>\n",
              "      <th>Usefulness</th>\n",
              "      <th>sentiment</th>\n",
              "    </tr>\n",
              "  </thead>\n",
              "  <tbody>\n",
              "    <tr>\n",
              "      <th>0</th>\n",
              "      <td>1</td>\n",
              "      <td>1</td>\n",
              "      <td>5</td>\n",
              "      <td>Good Quality Dog Food</td>\n",
              "      <td>I have bought several of the Vitality canned d...</td>\n",
              "      <td>useful</td>\n",
              "      <td>positive</td>\n",
              "    </tr>\n",
              "    <tr>\n",
              "      <th>1</th>\n",
              "      <td>0</td>\n",
              "      <td>0</td>\n",
              "      <td>1</td>\n",
              "      <td>Not as Advertised</td>\n",
              "      <td>Product arrived labeled as Jumbo Salted Peanut...</td>\n",
              "      <td>useless</td>\n",
              "      <td>negative</td>\n",
              "    </tr>\n",
              "    <tr>\n",
              "      <th>2</th>\n",
              "      <td>1</td>\n",
              "      <td>1</td>\n",
              "      <td>4</td>\n",
              "      <td>\"Delight\" says it all</td>\n",
              "      <td>This is a confection that has been around a fe...</td>\n",
              "      <td>useful</td>\n",
              "      <td>positive</td>\n",
              "    </tr>\n",
              "    <tr>\n",
              "      <th>3</th>\n",
              "      <td>3</td>\n",
              "      <td>3</td>\n",
              "      <td>2</td>\n",
              "      <td>Cough Medicine</td>\n",
              "      <td>If you are looking for the secret ingredient i...</td>\n",
              "      <td>useful</td>\n",
              "      <td>negative</td>\n",
              "    </tr>\n",
              "    <tr>\n",
              "      <th>4</th>\n",
              "      <td>0</td>\n",
              "      <td>0</td>\n",
              "      <td>5</td>\n",
              "      <td>Great taffy</td>\n",
              "      <td>Great taffy at a great price.  There was a wid...</td>\n",
              "      <td>useless</td>\n",
              "      <td>positive</td>\n",
              "    </tr>\n",
              "  </tbody>\n",
              "</table>\n",
              "</div>"
            ],
            "text/plain": [
              "   HelpfulnessNumerator  HelpfulnessDenominator  ...  Usefulness sentiment\n",
              "0                     1                       1  ...      useful  positive\n",
              "1                     0                       0  ...     useless  negative\n",
              "2                     1                       1  ...      useful  positive\n",
              "3                     3                       3  ...      useful  negative\n",
              "4                     0                       0  ...     useless  positive\n",
              "\n",
              "[5 rows x 7 columns]"
            ]
          },
          "metadata": {
            "tags": []
          },
          "execution_count": 10
        }
      ]
    },
    {
      "cell_type": "code",
      "metadata": {
        "id": "_yDPbrjWTIol",
        "colab_type": "code",
        "colab": {}
      },
      "source": [
        "df.columns = ['upvote','totalvote','score','summary','content','usefulness','sentiment']"
      ],
      "execution_count": 0,
      "outputs": []
    },
    {
      "cell_type": "code",
      "metadata": {
        "id": "iQ0X7O8DJGqj",
        "colab_type": "code",
        "outputId": "f42656fa-c5f6-467c-d565-9a212a4ec8ed",
        "colab": {
          "base_uri": "https://localhost:8080/",
          "height": 424
        }
      },
      "source": [
        "df"
      ],
      "execution_count": 0,
      "outputs": [
        {
          "output_type": "execute_result",
          "data": {
            "text/html": [
              "<div>\n",
              "<style scoped>\n",
              "    .dataframe tbody tr th:only-of-type {\n",
              "        vertical-align: middle;\n",
              "    }\n",
              "\n",
              "    .dataframe tbody tr th {\n",
              "        vertical-align: top;\n",
              "    }\n",
              "\n",
              "    .dataframe thead th {\n",
              "        text-align: right;\n",
              "    }\n",
              "</style>\n",
              "<table border=\"1\" class=\"dataframe\">\n",
              "  <thead>\n",
              "    <tr style=\"text-align: right;\">\n",
              "      <th></th>\n",
              "      <th>upvote</th>\n",
              "      <th>totalvote</th>\n",
              "      <th>score</th>\n",
              "      <th>summary</th>\n",
              "      <th>content</th>\n",
              "      <th>usefulness</th>\n",
              "      <th>sentiment</th>\n",
              "    </tr>\n",
              "  </thead>\n",
              "  <tbody>\n",
              "    <tr>\n",
              "      <th>0</th>\n",
              "      <td>1</td>\n",
              "      <td>1</td>\n",
              "      <td>5</td>\n",
              "      <td>Good Quality Dog Food</td>\n",
              "      <td>I have bought several of the Vitality canned d...</td>\n",
              "      <td>useful</td>\n",
              "      <td>positive</td>\n",
              "    </tr>\n",
              "    <tr>\n",
              "      <th>1</th>\n",
              "      <td>0</td>\n",
              "      <td>0</td>\n",
              "      <td>1</td>\n",
              "      <td>Not as Advertised</td>\n",
              "      <td>Product arrived labeled as Jumbo Salted Peanut...</td>\n",
              "      <td>useless</td>\n",
              "      <td>negative</td>\n",
              "    </tr>\n",
              "    <tr>\n",
              "      <th>2</th>\n",
              "      <td>1</td>\n",
              "      <td>1</td>\n",
              "      <td>4</td>\n",
              "      <td>\"Delight\" says it all</td>\n",
              "      <td>This is a confection that has been around a fe...</td>\n",
              "      <td>useful</td>\n",
              "      <td>positive</td>\n",
              "    </tr>\n",
              "    <tr>\n",
              "      <th>3</th>\n",
              "      <td>3</td>\n",
              "      <td>3</td>\n",
              "      <td>2</td>\n",
              "      <td>Cough Medicine</td>\n",
              "      <td>If you are looking for the secret ingredient i...</td>\n",
              "      <td>useful</td>\n",
              "      <td>negative</td>\n",
              "    </tr>\n",
              "    <tr>\n",
              "      <th>4</th>\n",
              "      <td>0</td>\n",
              "      <td>0</td>\n",
              "      <td>5</td>\n",
              "      <td>Great taffy</td>\n",
              "      <td>Great taffy at a great price.  There was a wid...</td>\n",
              "      <td>useless</td>\n",
              "      <td>positive</td>\n",
              "    </tr>\n",
              "    <tr>\n",
              "      <th>...</th>\n",
              "      <td>...</td>\n",
              "      <td>...</td>\n",
              "      <td>...</td>\n",
              "      <td>...</td>\n",
              "      <td>...</td>\n",
              "      <td>...</td>\n",
              "      <td>...</td>\n",
              "    </tr>\n",
              "    <tr>\n",
              "      <th>568449</th>\n",
              "      <td>0</td>\n",
              "      <td>0</td>\n",
              "      <td>5</td>\n",
              "      <td>Will not do without</td>\n",
              "      <td>Great for sesame chicken..this is a good if no...</td>\n",
              "      <td>useless</td>\n",
              "      <td>positive</td>\n",
              "    </tr>\n",
              "    <tr>\n",
              "      <th>568450</th>\n",
              "      <td>0</td>\n",
              "      <td>0</td>\n",
              "      <td>2</td>\n",
              "      <td>disappointed</td>\n",
              "      <td>I'm disappointed with the flavor. The chocolat...</td>\n",
              "      <td>useless</td>\n",
              "      <td>negative</td>\n",
              "    </tr>\n",
              "    <tr>\n",
              "      <th>568451</th>\n",
              "      <td>2</td>\n",
              "      <td>2</td>\n",
              "      <td>5</td>\n",
              "      <td>Perfect for our maltipoo</td>\n",
              "      <td>These stars are small, so you can give 10-15 o...</td>\n",
              "      <td>useful</td>\n",
              "      <td>positive</td>\n",
              "    </tr>\n",
              "    <tr>\n",
              "      <th>568452</th>\n",
              "      <td>1</td>\n",
              "      <td>1</td>\n",
              "      <td>5</td>\n",
              "      <td>Favorite Training and reward treat</td>\n",
              "      <td>These are the BEST treats for training and rew...</td>\n",
              "      <td>useful</td>\n",
              "      <td>positive</td>\n",
              "    </tr>\n",
              "    <tr>\n",
              "      <th>568453</th>\n",
              "      <td>0</td>\n",
              "      <td>0</td>\n",
              "      <td>5</td>\n",
              "      <td>Great Honey</td>\n",
              "      <td>I am very satisfied ,product is as advertised,...</td>\n",
              "      <td>useless</td>\n",
              "      <td>positive</td>\n",
              "    </tr>\n",
              "  </tbody>\n",
              "</table>\n",
              "<p>568454 rows × 7 columns</p>\n",
              "</div>"
            ],
            "text/plain": [
              "        upvote  totalvote  ...  usefulness sentiment\n",
              "0            1          1  ...      useful  positive\n",
              "1            0          0  ...     useless  negative\n",
              "2            1          1  ...      useful  positive\n",
              "3            3          3  ...      useful  negative\n",
              "4            0          0  ...     useless  positive\n",
              "...        ...        ...  ...         ...       ...\n",
              "568449       0          0  ...     useless  positive\n",
              "568450       0          0  ...     useless  negative\n",
              "568451       2          2  ...      useful  positive\n",
              "568452       1          1  ...      useful  positive\n",
              "568453       0          0  ...     useless  positive\n",
              "\n",
              "[568454 rows x 7 columns]"
            ]
          },
          "metadata": {
            "tags": []
          },
          "execution_count": 12
        }
      ]
    },
    {
      "cell_type": "code",
      "metadata": {
        "id": "ji6Wg1ojV_L3",
        "colab_type": "code",
        "outputId": "0cc2c982-c84d-4b83-b503-88e7f4501ac3",
        "colab": {
          "base_uri": "https://localhost:8080/",
          "height": 72
        }
      },
      "source": [
        "def describe(amzn):\n",
        "    emotions = amzn.sentiment.unique()\n",
        "    emotions_details = []\n",
        "    for emo in emotions:\n",
        "        info = {}\n",
        "        info['feeling'] = emo\n",
        "        info['count'] = len(amzn[amzn['sentiment']==emo])\n",
        "        info['mean_len'] = np.mean([len(x.split()) for x in amzn[amzn['sentiment']==emo]['content']])\n",
        "        emotions_details.append(info)\n",
        "    pp = pprint.PrettyPrinter(indent=4)\n",
        "    pp.pprint(emotions_details)\n",
        "describe(df)"
      ],
      "execution_count": 0,
      "outputs": [
        {
          "output_type": "stream",
          "text": [
            "[   {'count': 443777, 'feeling': 'positive', 'mean_len': 77.29875139991482},\n",
            "    {'count': 82037, 'feeling': 'negative', 'mean_len': 88.30968953033387},\n",
            "    {'count': 42640, 'feeling': 'neutral', 'mean_len': 95.64575515947467}]\n"
          ],
          "name": "stdout"
        }
      ]
    },
    {
      "cell_type": "markdown",
      "metadata": {
        "id": "c8rW2o_MJR6Z",
        "colab_type": "text"
      },
      "source": [
        "since dataset is more biased towards positive reviews, let's randomly select 82037 positive, 82037 negative, 42640 neutral"
      ]
    },
    {
      "cell_type": "code",
      "metadata": {
        "id": "qG7ckA3kJpES",
        "colab_type": "code",
        "colab": {}
      },
      "source": [
        "pos_rev = df[df['sentiment']=='positive'].sample(n=82037,axis=0)"
      ],
      "execution_count": 0,
      "outputs": []
    },
    {
      "cell_type": "code",
      "metadata": {
        "id": "CwjUByVuKaJF",
        "colab_type": "code",
        "colab": {}
      },
      "source": [
        "amzn = df.drop(df[df.sentiment == 'positive'].index)"
      ],
      "execution_count": 0,
      "outputs": []
    },
    {
      "cell_type": "code",
      "metadata": {
        "id": "qUY09uO0MAAe",
        "colab_type": "code",
        "colab": {}
      },
      "source": [
        "amzn = amzn.append(pos_rev)"
      ],
      "execution_count": 0,
      "outputs": []
    },
    {
      "cell_type": "code",
      "metadata": {
        "id": "fTN4mRFAMVPh",
        "colab_type": "code",
        "outputId": "d721b361-dd53-4c91-dd7c-b2ffd2b2e795",
        "colab": {
          "base_uri": "https://localhost:8080/",
          "height": 72
        }
      },
      "source": [
        "describe(amzn)"
      ],
      "execution_count": 0,
      "outputs": [
        {
          "output_type": "stream",
          "text": [
            "[   {'count': 82037, 'feeling': 'negative', 'mean_len': 88.30968953033387},\n",
            "    {'count': 42640, 'feeling': 'neutral', 'mean_len': 95.64575515947467},\n",
            "    {'count': 82037, 'feeling': 'positive', 'mean_len': 77.43601058059168}]\n"
          ],
          "name": "stdout"
        }
      ]
    },
    {
      "cell_type": "markdown",
      "metadata": {
        "id": "_E4GdV9bMawU",
        "colab_type": "text"
      },
      "source": [
        "voila!"
      ]
    },
    {
      "cell_type": "markdown",
      "metadata": {
        "id": "2_EE_AntRmdd",
        "colab_type": "text"
      },
      "source": [
        "# Preprocessing\n",
        "skip for amzn, preprocessed *csv* is saved"
      ]
    },
    {
      "cell_type": "code",
      "metadata": {
        "id": "BtVavOl7zxIW",
        "colab_type": "code",
        "colab": {}
      },
      "source": [
        "stopword = stopwords.words('english')"
      ],
      "execution_count": 0,
      "outputs": []
    },
    {
      "cell_type": "code",
      "metadata": {
        "id": "DtMrlw4O5KI0",
        "colab_type": "code",
        "outputId": "a6bdb637-dc44-444e-f6c0-db4e0f17ef4a",
        "colab": {
          "base_uri": "https://localhost:8080/",
          "height": 55
        }
      },
      "source": [
        "print(stopword)"
      ],
      "execution_count": 0,
      "outputs": [
        {
          "output_type": "stream",
          "text": [
            "['i', 'me', 'my', 'myself', 'we', 'our', 'ours', 'ourselves', 'you', \"you're\", \"you've\", \"you'll\", \"you'd\", 'your', 'yours', 'yourself', 'yourselves', 'he', 'him', 'his', 'himself', 'she', \"she's\", 'her', 'hers', 'herself', 'it', \"it's\", 'its', 'itself', 'they', 'them', 'their', 'theirs', 'themselves', 'what', 'which', 'who', 'whom', 'this', 'that', \"that'll\", 'these', 'those', 'am', 'is', 'are', 'was', 'were', 'be', 'been', 'being', 'have', 'has', 'had', 'having', 'do', 'does', 'did', 'doing', 'a', 'an', 'the', 'and', 'but', 'if', 'or', 'because', 'as', 'until', 'while', 'of', 'at', 'by', 'for', 'with', 'about', 'against', 'between', 'into', 'through', 'during', 'before', 'after', 'above', 'below', 'to', 'from', 'up', 'down', 'in', 'out', 'on', 'off', 'over', 'under', 'again', 'further', 'then', 'once', 'here', 'there', 'when', 'where', 'why', 'how', 'all', 'any', 'both', 'each', 'few', 'more', 'most', 'other', 'some', 'such', 'no', 'nor', 'not', 'only', 'own', 'same', 'so', 'than', 'too', 'very', 's', 't', 'can', 'will', 'just', 'don', \"don't\", 'should', \"should've\", 'now', 'd', 'll', 'm', 'o', 're', 've', 'y', 'ain', 'aren', \"aren't\", 'couldn', \"couldn't\", 'didn', \"didn't\", 'doesn', \"doesn't\", 'hadn', \"hadn't\", 'hasn', \"hasn't\", 'haven', \"haven't\", 'isn', \"isn't\", 'ma', 'mightn', \"mightn't\", 'mustn', \"mustn't\", 'needn', \"needn't\", 'shan', \"shan't\", 'shouldn', \"shouldn't\", 'wasn', \"wasn't\", 'weren', \"weren't\", 'won', \"won't\", 'wouldn', \"wouldn't\"]\n"
          ],
          "name": "stdout"
        }
      ]
    },
    {
      "cell_type": "code",
      "metadata": {
        "id": "4OFMoBnI12jh",
        "colab_type": "code",
        "colab": {}
      },
      "source": [
        "def clean(text):\n",
        "    \"\"\"Remove link,user, special characters and stopwords\n",
        "    params: string.\n",
        "    returns: string\n",
        "    \"\"\"\n",
        "    stemmer = SnowballStemmer(language='english')\n",
        "    text = re.sub('@\\S+|https?:\\S+|http?:\\S|\\W+', ' ', str(text).lower()).strip()\n",
        "    tokens = []\n",
        "    for token in text.split():\n",
        "        if token not in stopword:\n",
        "            token = stemmer.stem(token)\n",
        "            tokens.append(token)\n",
        "\n",
        "    return \" \".join(tokens)"
      ],
      "execution_count": 0,
      "outputs": []
    },
    {
      "cell_type": "code",
      "metadata": {
        "id": "SssLJtJF2Lih",
        "colab_type": "code",
        "outputId": "611ab577-3821-4193-8672-ee36c667baa7",
        "colab": {
          "base_uri": "https://localhost:8080/",
          "height": 54
        }
      },
      "source": [
        "%%time\n",
        "amzn.content = amzn.content.apply(lambda x: clean(x)) # x = each tweet"
      ],
      "execution_count": 0,
      "outputs": [
        {
          "output_type": "stream",
          "text": [
            "CPU times: user 2min 34s, sys: 0 ns, total: 2min 34s\n",
            "Wall time: 2min 34s\n"
          ],
          "name": "stdout"
        }
      ]
    },
    {
      "cell_type": "code",
      "metadata": {
        "id": "duqnmezlNUjh",
        "colab_type": "code",
        "outputId": "8af192d6-7db4-49bc-95ab-87af1903a3ec",
        "colab": {
          "base_uri": "https://localhost:8080/",
          "height": 206
        }
      },
      "source": [
        "amzn.head()"
      ],
      "execution_count": 0,
      "outputs": [
        {
          "output_type": "execute_result",
          "data": {
            "text/html": [
              "<div>\n",
              "<style scoped>\n",
              "    .dataframe tbody tr th:only-of-type {\n",
              "        vertical-align: middle;\n",
              "    }\n",
              "\n",
              "    .dataframe tbody tr th {\n",
              "        vertical-align: top;\n",
              "    }\n",
              "\n",
              "    .dataframe thead th {\n",
              "        text-align: right;\n",
              "    }\n",
              "</style>\n",
              "<table border=\"1\" class=\"dataframe\">\n",
              "  <thead>\n",
              "    <tr style=\"text-align: right;\">\n",
              "      <th></th>\n",
              "      <th>upvote</th>\n",
              "      <th>totalvote</th>\n",
              "      <th>score</th>\n",
              "      <th>summary</th>\n",
              "      <th>content</th>\n",
              "      <th>usefulness</th>\n",
              "      <th>sentiment</th>\n",
              "    </tr>\n",
              "  </thead>\n",
              "  <tbody>\n",
              "    <tr>\n",
              "      <th>1</th>\n",
              "      <td>0</td>\n",
              "      <td>0</td>\n",
              "      <td>1</td>\n",
              "      <td>Not as Advertised</td>\n",
              "      <td>product arriv label jumbo salt peanut peanut a...</td>\n",
              "      <td>useless</td>\n",
              "      <td>negative</td>\n",
              "    </tr>\n",
              "    <tr>\n",
              "      <th>3</th>\n",
              "      <td>3</td>\n",
              "      <td>3</td>\n",
              "      <td>2</td>\n",
              "      <td>Cough Medicine</td>\n",
              "      <td>look secret ingredi robitussin believ found go...</td>\n",
              "      <td>useful</td>\n",
              "      <td>negative</td>\n",
              "    </tr>\n",
              "    <tr>\n",
              "      <th>12</th>\n",
              "      <td>1</td>\n",
              "      <td>1</td>\n",
              "      <td>1</td>\n",
              "      <td>My Cats Are Not Fans of the New Food</td>\n",
              "      <td>cat happili eat felida platinum two year got n...</td>\n",
              "      <td>useful</td>\n",
              "      <td>negative</td>\n",
              "    </tr>\n",
              "    <tr>\n",
              "      <th>16</th>\n",
              "      <td>0</td>\n",
              "      <td>0</td>\n",
              "      <td>2</td>\n",
              "      <td>poor taste</td>\n",
              "      <td>love eat good watch tv look movi sweet like tr...</td>\n",
              "      <td>useless</td>\n",
              "      <td>negative</td>\n",
              "    </tr>\n",
              "    <tr>\n",
              "      <th>26</th>\n",
              "      <td>0</td>\n",
              "      <td>1</td>\n",
              "      <td>1</td>\n",
              "      <td>Nasty No flavor</td>\n",
              "      <td>candi red flavor plan chewi would never buy</td>\n",
              "      <td>useless</td>\n",
              "      <td>negative</td>\n",
              "    </tr>\n",
              "  </tbody>\n",
              "</table>\n",
              "</div>"
            ],
            "text/plain": [
              "    upvote  totalvote  ...  usefulness sentiment\n",
              "1        0          0  ...     useless  negative\n",
              "3        3          3  ...      useful  negative\n",
              "12       1          1  ...      useful  negative\n",
              "16       0          0  ...     useless  negative\n",
              "26       0          1  ...     useless  negative\n",
              "\n",
              "[5 rows x 7 columns]"
            ]
          },
          "metadata": {
            "tags": []
          },
          "execution_count": 21
        }
      ]
    },
    {
      "cell_type": "markdown",
      "metadata": {
        "id": "EpXoFSCSQOOY",
        "colab_type": "text"
      },
      "source": [
        "saving amzn"
      ]
    },
    {
      "cell_type": "code",
      "metadata": {
        "id": "PlE13IM7QXxD",
        "colab_type": "code",
        "colab": {}
      },
      "source": [
        "amzn.to_csv('/content/drive/My Drive/Colab Notebooks/AI_LAB_PROJECT/Data/amzn.csv')"
      ],
      "execution_count": 0,
      "outputs": []
    },
    {
      "cell_type": "markdown",
      "metadata": {
        "id": "u72k03dL-uIl",
        "colab_type": "text"
      },
      "source": [
        "**Load AMZN** \\\n",
        "it is already processed"
      ]
    },
    {
      "cell_type": "code",
      "metadata": {
        "id": "4fmaRBZGhcgR",
        "colab_type": "code",
        "outputId": "a73b0e24-8ab7-4e5b-bdf8-6ed3eb07f028",
        "colab": {
          "base_uri": "https://localhost:8080/",
          "height": 206
        }
      },
      "source": [
        "amzn = pd.read_csv('/content/drive/My Drive/Colab Notebooks/AI_LAB_PROJECT/Data/amzn.csv')\n",
        "amzn.head()"
      ],
      "execution_count": 0,
      "outputs": [
        {
          "output_type": "execute_result",
          "data": {
            "text/html": [
              "<div>\n",
              "<style scoped>\n",
              "    .dataframe tbody tr th:only-of-type {\n",
              "        vertical-align: middle;\n",
              "    }\n",
              "\n",
              "    .dataframe tbody tr th {\n",
              "        vertical-align: top;\n",
              "    }\n",
              "\n",
              "    .dataframe thead th {\n",
              "        text-align: right;\n",
              "    }\n",
              "</style>\n",
              "<table border=\"1\" class=\"dataframe\">\n",
              "  <thead>\n",
              "    <tr style=\"text-align: right;\">\n",
              "      <th></th>\n",
              "      <th>Unnamed: 0</th>\n",
              "      <th>upvote</th>\n",
              "      <th>totalvote</th>\n",
              "      <th>score</th>\n",
              "      <th>summary</th>\n",
              "      <th>content</th>\n",
              "      <th>usefulness</th>\n",
              "      <th>sentiment</th>\n",
              "    </tr>\n",
              "  </thead>\n",
              "  <tbody>\n",
              "    <tr>\n",
              "      <th>0</th>\n",
              "      <td>1</td>\n",
              "      <td>0</td>\n",
              "      <td>0</td>\n",
              "      <td>1</td>\n",
              "      <td>Not as Advertised</td>\n",
              "      <td>product arriv label jumbo salt peanut peanut a...</td>\n",
              "      <td>useless</td>\n",
              "      <td>negative</td>\n",
              "    </tr>\n",
              "    <tr>\n",
              "      <th>1</th>\n",
              "      <td>3</td>\n",
              "      <td>3</td>\n",
              "      <td>3</td>\n",
              "      <td>2</td>\n",
              "      <td>Cough Medicine</td>\n",
              "      <td>look secret ingredi robitussin believ found go...</td>\n",
              "      <td>useful</td>\n",
              "      <td>negative</td>\n",
              "    </tr>\n",
              "    <tr>\n",
              "      <th>2</th>\n",
              "      <td>12</td>\n",
              "      <td>1</td>\n",
              "      <td>1</td>\n",
              "      <td>1</td>\n",
              "      <td>My Cats Are Not Fans of the New Food</td>\n",
              "      <td>cat happili eat felida platinum two year got n...</td>\n",
              "      <td>useful</td>\n",
              "      <td>negative</td>\n",
              "    </tr>\n",
              "    <tr>\n",
              "      <th>3</th>\n",
              "      <td>16</td>\n",
              "      <td>0</td>\n",
              "      <td>0</td>\n",
              "      <td>2</td>\n",
              "      <td>poor taste</td>\n",
              "      <td>love eat good watch tv look movi sweet like tr...</td>\n",
              "      <td>useless</td>\n",
              "      <td>negative</td>\n",
              "    </tr>\n",
              "    <tr>\n",
              "      <th>4</th>\n",
              "      <td>26</td>\n",
              "      <td>0</td>\n",
              "      <td>1</td>\n",
              "      <td>1</td>\n",
              "      <td>Nasty No flavor</td>\n",
              "      <td>candi red flavor plan chewi would never buy</td>\n",
              "      <td>useless</td>\n",
              "      <td>negative</td>\n",
              "    </tr>\n",
              "  </tbody>\n",
              "</table>\n",
              "</div>"
            ],
            "text/plain": [
              "   Unnamed: 0  upvote  ...  usefulness  sentiment\n",
              "0           1       0  ...     useless   negative\n",
              "1           3       3  ...      useful   negative\n",
              "2          12       1  ...      useful   negative\n",
              "3          16       0  ...     useless   negative\n",
              "4          26       0  ...     useless   negative\n",
              "\n",
              "[5 rows x 8 columns]"
            ]
          },
          "metadata": {
            "tags": []
          },
          "execution_count": 4
        }
      ]
    },
    {
      "cell_type": "markdown",
      "metadata": {
        "id": "XNq6YHrjHxBO",
        "colab_type": "text"
      },
      "source": [
        "train test split"
      ]
    },
    {
      "cell_type": "code",
      "metadata": {
        "id": "d0MRxwG0YdlA",
        "colab_type": "code",
        "colab": {}
      },
      "source": [
        "train,test = train_test_split(amzn,test_size=0.2)"
      ],
      "execution_count": 0,
      "outputs": []
    },
    {
      "cell_type": "markdown",
      "metadata": {
        "id": "UtTyf2A-q_EH",
        "colab_type": "text"
      },
      "source": [
        "# Keras"
      ]
    },
    {
      "cell_type": "code",
      "metadata": {
        "id": "t_NK0JR8-du1",
        "colab_type": "code",
        "colab": {}
      },
      "source": [
        "SENT_LEN = 100"
      ],
      "execution_count": 0,
      "outputs": []
    },
    {
      "cell_type": "markdown",
      "metadata": {
        "id": "rqik1B7aIIwb",
        "colab_type": "text"
      },
      "source": [
        "Tokenization and Padding"
      ]
    },
    {
      "cell_type": "code",
      "metadata": {
        "id": "exoCUsr0LKMa",
        "colab_type": "code",
        "colab": {}
      },
      "source": [
        "tk = Tokenizer(num_words=50000)\n",
        "tk.fit_on_texts(amzn.content)"
      ],
      "execution_count": 0,
      "outputs": []
    },
    {
      "cell_type": "code",
      "metadata": {
        "id": "Ibd25N01rQ6_",
        "colab_type": "code",
        "outputId": "fd41d649-530d-48d9-c7ea-c29ef71a2e87",
        "colab": {
          "base_uri": "https://localhost:8080/",
          "height": 35
        }
      },
      "source": [
        "MAX_WORDS = len(tk.word_index)+1\n",
        "print(len(tk.word_index)+1)"
      ],
      "execution_count": 0,
      "outputs": [
        {
          "output_type": "stream",
          "text": [
            "51784\n"
          ],
          "name": "stdout"
        }
      ]
    },
    {
      "cell_type": "code",
      "metadata": {
        "id": "M0gnmwylmoA9",
        "colab_type": "code",
        "colab": {}
      },
      "source": [
        "X_train = tk.texts_to_sequences(train.content)\n",
        "X_train = pad_sequences(X_train,maxlen=SENT_LEN,padding='post')"
      ],
      "execution_count": 0,
      "outputs": []
    },
    {
      "cell_type": "code",
      "metadata": {
        "id": "sN9PBrXArqdW",
        "colab_type": "code",
        "outputId": "f42203e1-ce7f-48e1-f97d-670ec5a1f1b4",
        "colab": {
          "base_uri": "https://localhost:8080/",
          "height": 35
        }
      },
      "source": [
        "X_train.shape"
      ],
      "execution_count": 0,
      "outputs": [
        {
          "output_type": "execute_result",
          "data": {
            "text/plain": [
              "(165371, 100)"
            ]
          },
          "metadata": {
            "tags": []
          },
          "execution_count": 10
        }
      ]
    },
    {
      "cell_type": "code",
      "metadata": {
        "id": "1S7hd9kBQF7G",
        "colab_type": "code",
        "colab": {}
      },
      "source": [
        "X_test = tk.texts_to_sequences(test.content)\n",
        "X_test = pad_sequences(X_test,maxlen=SENT_LEN)"
      ],
      "execution_count": 0,
      "outputs": []
    },
    {
      "cell_type": "markdown",
      "metadata": {
        "id": "R3YjGuRfIMxl",
        "colab_type": "text"
      },
      "source": [
        "One Hot Encoding: Sentiment"
      ]
    },
    {
      "cell_type": "code",
      "metadata": {
        "id": "tdoX7_ZSR5tE",
        "colab_type": "code",
        "colab": {}
      },
      "source": [
        "y = np.array(amzn.sentiment).reshape(-1,1)\n",
        "y_train = np.array(train.sentiment).reshape(-1,1)\n",
        "y_test = np.array(test.sentiment).reshape(-1,1)"
      ],
      "execution_count": 0,
      "outputs": []
    },
    {
      "cell_type": "code",
      "metadata": {
        "id": "9f-rVaeRXofN",
        "colab_type": "code",
        "colab": {}
      },
      "source": [
        "onehotenc = OneHotEncoder(categories=\"auto\",handle_unknown='ignore')\n",
        "onehotenc.fit(y)\n",
        "y_train = onehotenc.transform(y_train)\n",
        "y_test = onehotenc.transform(y_test)"
      ],
      "execution_count": 0,
      "outputs": []
    },
    {
      "cell_type": "code",
      "metadata": {
        "id": "yJ9D5sps43kR",
        "colab_type": "code",
        "colab": {}
      },
      "source": [
        "with open('/content/drive/My Drive/Colab Notebooks/AI_LAB_PROJECT/Data/ohe.pickle', 'wb') as handle:\n",
        "    pickle.dump(onehotenc, handle, protocol=2)"
      ],
      "execution_count": 0,
      "outputs": []
    },
    {
      "cell_type": "code",
      "metadata": {
        "id": "9VHhazZ_tBID",
        "colab_type": "code",
        "outputId": "8b39bbb6-518e-49e0-b3ee-e245863e550c",
        "colab": {
          "base_uri": "https://localhost:8080/",
          "height": 54
        }
      },
      "source": [
        "print(X_train.shape,y_train.shape)\n",
        "print(X_test.shape,y_test.shape)"
      ],
      "execution_count": 0,
      "outputs": [
        {
          "output_type": "stream",
          "text": [
            "(165371, 100) (165371, 3)\n",
            "(41343, 100) (41343, 3)\n"
          ],
          "name": "stdout"
        }
      ]
    },
    {
      "cell_type": "markdown",
      "metadata": {
        "id": "2DbX44j90lHo",
        "colab_type": "text"
      },
      "source": [
        " defining model"
      ]
    },
    {
      "cell_type": "code",
      "metadata": {
        "trusted": true,
        "id": "rmvU4RhDCPQn",
        "colab_type": "code",
        "outputId": "251c3672-e11e-4d6d-836e-928104862aa7",
        "colab": {
          "base_uri": "https://localhost:8080/",
          "height": 274
        }
      },
      "source": [
        "model = Sequential()\n",
        "model.add(Embedding(MAX_WORDS,100,input_length=X_train.shape[1])) # PROBLEM\n",
        "model.add(LSTM(100,dropout=0.2,recurrent_dropout=0.2))\n",
        "model.add(Dense(y_test.shape[1],activation='softmax'))\n",
        "model.compile(loss='categorical_crossentropy',\n",
        "             optimizer='adam',\n",
        "             metrics=['accuracy'])\n",
        "model.summary()"
      ],
      "execution_count": 0,
      "outputs": [
        {
          "output_type": "stream",
          "text": [
            "Model: \"sequential_2\"\n",
            "_________________________________________________________________\n",
            "Layer (type)                 Output Shape              Param #   \n",
            "=================================================================\n",
            "embedding_2 (Embedding)      (None, 100, 100)          5178400   \n",
            "_________________________________________________________________\n",
            "lstm_2 (LSTM)                (None, 100)               80400     \n",
            "_________________________________________________________________\n",
            "dense_2 (Dense)              (None, 3)                 303       \n",
            "=================================================================\n",
            "Total params: 5,259,103\n",
            "Trainable params: 5,259,103\n",
            "Non-trainable params: 0\n",
            "_________________________________________________________________\n"
          ],
          "name": "stdout"
        }
      ]
    },
    {
      "cell_type": "code",
      "metadata": {
        "trusted": true,
        "id": "Vd9ZLEMRCPQ3",
        "colab_type": "code",
        "colab": {}
      },
      "source": [
        "callbacks = [ ReduceLROnPlateau(monitor='val_loss', patience=5, cooldown=0),\n",
        "              EarlyStopping(monitor='val_acc', min_delta=1e-4, patience=5)]"
      ],
      "execution_count": 0,
      "outputs": []
    },
    {
      "cell_type": "markdown",
      "metadata": {
        "id": "VLqXAVNe0n8M",
        "colab_type": "text"
      },
      "source": [
        "fit"
      ]
    },
    {
      "cell_type": "code",
      "metadata": {
        "id": "YbcnvbbFgdDL",
        "colab_type": "code",
        "outputId": "abcfb143-39c4-4b45-e2e5-44a83931894d",
        "colab": {
          "base_uri": "https://localhost:8080/",
          "height": 256
        }
      },
      "source": [
        "%%time\n",
        "lstm_3= model.fit(X_train,y_train,batch_size=128,epochs=5,validation_data=(X_test,y_test),verbose=1,callbacks=callbacks)"
      ],
      "execution_count": 0,
      "outputs": [
        {
          "output_type": "stream",
          "text": [
            "Train on 165371 samples, validate on 41343 samples\n",
            "Epoch 1/5\n",
            "165371/165371 [==============================] - 498s 3ms/step - loss: 1.0309 - acc: 0.4592 - val_loss: 0.9658 - val_acc: 0.5494\n",
            "Epoch 2/5\n",
            "165371/165371 [==============================] - 502s 3ms/step - loss: 0.7611 - acc: 0.6818 - val_loss: 0.6895 - val_acc: 0.7141\n",
            "Epoch 3/5\n",
            "165371/165371 [==============================] - 497s 3ms/step - loss: 0.5921 - acc: 0.7615 - val_loss: 0.6323 - val_acc: 0.7430\n",
            "Epoch 4/5\n",
            "165371/165371 [==============================] - 494s 3ms/step - loss: 0.5201 - acc: 0.7961 - val_loss: 0.6315 - val_acc: 0.7460\n",
            "Epoch 5/5\n",
            "165371/165371 [==============================] - 487s 3ms/step - loss: 0.4636 - acc: 0.8218 - val_loss: 0.6214 - val_acc: 0.7528\n",
            "CPU times: user 1h 15min 14s, sys: 3min 31s, total: 1h 18min 46s\n",
            "Wall time: 41min 18s\n"
          ],
          "name": "stdout"
        }
      ]
    },
    {
      "cell_type": "markdown",
      "metadata": {
        "id": "TsSZcnYY0rfi",
        "colab_type": "text"
      },
      "source": [
        "saving trained model"
      ]
    },
    {
      "cell_type": "code",
      "metadata": {
        "id": "QzyMKp_9VJJB",
        "colab_type": "code",
        "colab": {}
      },
      "source": [
        "model.save('/content/drive/My Drive/Colab Notebooks/AI_LAB_PROJECT/Data/lstm_3_amzn.h5')"
      ],
      "execution_count": 0,
      "outputs": []
    },
    {
      "cell_type": "code",
      "metadata": {
        "trusted": true,
        "id": "LJL1PUoICPRw",
        "colab_type": "code",
        "outputId": "de9ab44c-4cf1-4582-f0b1-e9f9b2e5ebdf",
        "colab": {
          "base_uri": "https://localhost:8080/",
          "height": 281
        }
      },
      "source": [
        "plt.title('Accuracy')\n",
        "plt.plot(lstm_3.history['acc'], label='train')\n",
        "plt.plot(lstm_3.history['val_acc'], label='test')\n",
        "plt.legend()\n",
        "plt.show()"
      ],
      "execution_count": 0,
      "outputs": [
        {
          "output_type": "display_data",
          "data": {
            "image/png": "[encoded data removed]",
            "text/plain": [
              "<Figure size 432x288 with 1 Axes>"
            ]
          },
          "metadata": {
            "tags": []
          }
        }
      ]
    },
    {
      "cell_type": "code",
      "metadata": {
        "id": "nycD0zPoHI30",
        "colab_type": "code",
        "colab": {}
      },
      "source": [
        "def predict(text,tkn=0):\n",
        "    # Tokenize text\n",
        "    x_test = tk.texts_to_sequences([text])\n",
        "    x_test = pad_sequences(x_test, maxlen=SENT_LEN)\n",
        "    # Predict\n",
        "    pr = model.predict([x_test])\n",
        "    # taking top two of final predictions\n",
        "    f_score = pr[pr==np.amax(pr)]\n",
        "    out = np.max(pr)\n",
        "    print(out)\n",
        "    print('fscore', f_score)\n",
        "    f_label = onehotenc.inverse_transform(pr)\n",
        "    pr[pr==f_score] = 0\n",
        "    s_score = pr[pr==np.amax(pr)]\n",
        "    s_label = onehotenc.inverse_transform(pr)\n",
        "    return (pr,f_label,s_label)"
      ],
      "execution_count": 0,
      "outputs": []
    },
    {
      "cell_type": "markdown",
      "metadata": {
        "id": "Ntsjj9nU0yps",
        "colab_type": "text"
      },
      "source": [
        "predicting samples"
      ]
    },
    {
      "cell_type": "code",
      "metadata": {
        "id": "X6qj1WC0GnQL",
        "colab_type": "code",
        "outputId": "a5bbd70f-8708-4521-a3de-636e0b06bea5",
        "colab": {
          "base_uri": "https://localhost:8080/",
          "height": 127
        }
      },
      "source": [
        "# negative,neutral,positive\n",
        "p = \"Every once in a while, especially after a longer cook time with liquids still present, some leaking will happen from bag into the slow cooker. But at least it is minimal and cleanup is still super easy!\"\n",
        "n = \"These were horrible. bought them for my crockpot. every time i used them (on low heat) they would burn onto the crockpot and it would rip as i was pulling it out. complete mess! do not buy these\"\n",
        "print(predict(p,tkn=1))\n",
        "print(predict(n,tkn=1))"
      ],
      "execution_count": 0,
      "outputs": [
        {
          "output_type": "stream",
          "text": [
            "0.6137179\n",
            "fscore [0.6137179]\n",
            "(array([[0.22829242, 0.15798973, 0.        ]], dtype=float32), array([['positive']], dtype=object), array([['negative']], dtype=object))\n",
            "0.85012877\n",
            "fscore [0.85012877]\n",
            "(array([[0.        , 0.08333636, 0.06653486]], dtype=float32), array([['negative']], dtype=object), array([['neutral']], dtype=object))\n"
          ],
          "name": "stdout"
        }
      ]
    },
    {
      "cell_type": "markdown",
      "metadata": {
        "id": "iZfNL3he01NE",
        "colab_type": "text"
      },
      "source": [
        "exporting lstm `model` as HDF5 file, `tokenizer` as .pickle, `onehotenc` as .pickle file"
      ]
    },
    {
      "cell_type": "code",
      "metadata": {
        "id": "bKcW7WUQ3xea",
        "colab_type": "code",
        "colab": {}
      },
      "source": [
        "import pickle\n",
        "with open('/content/drive/My Drive/Colab Notebooks/AI_LAB_PROJECT/Data/tokenizer.pickle', 'wb') as handle:\n",
        "    pickle.dump(tk, handle, protocol=2)"
      ],
      "execution_count": 0,
      "outputs": []
    },
    {
      "cell_type": "markdown",
      "metadata": {
        "id": "Fb6UexW9TzgI",
        "colab_type": "text"
      },
      "source": [
        "# Appendix"
      ]
    },
    {
      "cell_type": "markdown",
      "metadata": {
        "id": "iJ58uxzGWFd4",
        "colab_type": "text"
      },
      "source": [
        "save weight + architecture"
      ]
    },
    {
      "cell_type": "markdown",
      "metadata": {
        "id": "RQic8hA0T1Uz",
        "colab_type": "text"
      },
      "source": [
        "```\n",
        "model.save('my_model.h5')  # creates a HDF5 file 'my_model.h5'\n",
        "del model  # deletes the existing model\n",
        "\n",
        "# returns a compiled model\n",
        "# identical to the previous one\n",
        "model = load_model('my_model.h5')\n",
        "```"
      ]
    },
    {
      "cell_type": "markdown",
      "metadata": {
        "id": "bgW6WgrGWKfy",
        "colab_type": "text"
      },
      "source": [
        "Save only architecture\n",
        "```\n",
        "# save as JSON\n",
        "json_string = model.to_json()\n",
        "\n",
        "# save as YAML\n",
        "yaml_string = model.to_yaml()\n",
        "```\n",
        "Save JSON \n",
        "```\n",
        "import json\n",
        "my_details = {\n",
        "    'name': 'John Doe',\n",
        "    'age': 29\n",
        "}\n",
        "with open('personal.json', 'w') as json_file:\n",
        "    json.dump(my_details, json_file)\n",
        "```\n",
        "Load\n",
        "```\n",
        "# model reconstruction from JSON:\n",
        "from keras.models import model_from_json\n",
        "model = model_from_json(json.dumps(json_string)\n",
        "\n",
        "# model reconstruction from YAML:\n",
        "from keras.models import model_from_yaml\n",
        "model = model_from_yaml(yaml_string)\n",
        "```"
      ]
    }
  ]
}